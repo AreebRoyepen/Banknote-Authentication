{
 "cells": [
  {
   "cell_type": "markdown",
   "metadata": {},
   "source": [
    "# CSC311 Machine Learning Project 2019 - Group 21\n",
    "\n",
    "    Keelan Govender - 3770037\n",
    "\n",
    "    Areeb Royeppen  - 3750662\n",
    "\n",
    "    Mulayo Tshivase - 3744386\n",
    "    \n",
    "    \n",
    "## This notebook is a demo script that takes the optimized models and allows user input to predict\n",
    "\n",
    "### Importing Libraries and models"
   ]
  },
  {
   "cell_type": "code",
   "execution_count": 1,
   "metadata": {},
   "outputs": [],
   "source": [
    "from IPython.display import display, HTML\n",
    "import ipywidgets as widgets\n",
    "import numpy as np\n",
    "import pandas as pd\n",
    "import warnings\n",
    "%store -r model\n",
    "%store -r polytransform\n",
    "%store -r scaler\n",
    "%store -r svclassifier\n",
    "%store -r clfNN\n",
    "warnings.simplefilter(\"ignore\")"
   ]
  },
  {
   "cell_type": "markdown",
   "metadata": {},
   "source": [
    "## The Predictions Function"
   ]
  },
  {
   "cell_type": "markdown",
   "metadata": {},
   "source": [
    "this function predicts using all three models when passed a dataset and give results"
   ]
  },
  {
   "cell_type": "code",
   "execution_count": 2,
   "metadata": {},
   "outputs": [],
   "source": [
    "def Predictions(X_demo):\n",
    "    \n",
    "    X=np.transpose(X_demo)\n",
    "    X_scaled = scaler.transform(X)\n",
    "\n",
    "    \n",
    "    \n",
    "    X_poly= polytransform.transform(X_scaled)\n",
    "    \n",
    "    logReg=model.predict(X_poly)\n",
    "    if int(logReg[0])== 0 :\n",
    "            print( \"LogReg model predicts that Bank note is Fake\")\n",
    "    else:\n",
    "            print(\"LogReg model predicts that The Bank note is legit \")\n",
    "        \n",
    "    models=[svclassifier,clfNN]\n",
    "    model_name=[\"SVM model\",\"NN model \"]\n",
    "    for i in range(2):\n",
    "        ypred=models[i].predict(X_scaled)\n",
    "        if int(ypred[0])== 0 :\n",
    "            print( model_name[i]+\" predicts that Bank note is Fake\")\n",
    "        else:\n",
    "            print(model_name[i]+\" predicts that The Bank note is legit \")\n",
    "    \n",
    "            \n",
    "\n",
    "    "
   ]
  },
  {
   "cell_type": "markdown",
   "metadata": {},
   "source": [
    "# Interface implementation"
   ]
  },
  {
   "cell_type": "code",
   "execution_count": 3,
   "metadata": {},
   "outputs": [
    {
     "data": {
      "text/html": [
       "<h1>Banknote Authentication Embedded App</h1>"
      ],
      "text/plain": [
       "<IPython.core.display.HTML object>"
      ]
     },
     "metadata": {},
     "output_type": "display_data"
    },
    {
     "data": {
      "text/html": [
       "<h2>Select values and predict to get results</h2>"
      ],
      "text/plain": [
       "<IPython.core.display.HTML object>"
      ]
     },
     "metadata": {},
     "output_type": "display_data"
    },
    {
     "data": {
      "application/vnd.jupyter.widget-view+json": {
       "model_id": "0e85aad1d74c4bdea0dc1b8ba66ead80",
       "version_major": 2,
       "version_minor": 0
      },
      "text/plain": [
       "VBox(children=(HBox(children=(Label(value='Variance of wavelet transformed image'), FloatSlider(value=0.0, max…"
      ]
     },
     "metadata": {},
     "output_type": "display_data"
    },
    {
     "name": "stdout",
     "output_type": "stream",
     "text": [
      "LogReg model predicts that The Bank note is legit \n",
      "SVM model predicts that The Bank note is legit \n",
      "NN model  predicts that The Bank note is legit \n"
     ]
    }
   ],
   "source": [
    "display(HTML('<h1>Banknote Authentication Embedded App</h1>'))\n",
    "display(HTML('<h2>Select values and predict to get results</h2>'))\n",
    "\n",
    "\n",
    "slider1 = widgets.FloatSlider(min=-20, max=20, value=0)\n",
    "label1 = widgets.Label(value='Variance of wavelet transformed image')\n",
    "\n",
    "slider2 = widgets.FloatSlider(min=-20, max=20, value=0)\n",
    "label2 = widgets.Label(value='Skewness of wavelet transformed image')\n",
    "\n",
    "slider3 = widgets.FloatSlider(min=-20, max=20, value=0)\n",
    "label3 = widgets.Label(value='Kurtosis of wavelet transformed image')\n",
    "\n",
    "slider4 = widgets.FloatSlider(min=-20, max=20, value=0)\n",
    "label4 = widgets.Label(value='Entropy of the image                 ')\n",
    "\n",
    "button = widgets.Button(description='PREDICT', button_style='info', tooltip='Predict')\n",
    "\n",
    "\n",
    "def getValues(b):\n",
    "    values = []\n",
    "    values.append([slider1.value])\n",
    "    values.append([slider2.value])\n",
    "    values.append([slider3.value])\n",
    "    values.append([slider4.value])\n",
    "    Predictions(values)\n",
    "\n",
    "# UI Layout\n",
    "box1 = widgets.HBox([label1, slider1])\n",
    "box2 = widgets.HBox([label2, slider2])\n",
    "box3 = widgets.HBox([label3, slider3])\n",
    "box4 = widgets.HBox([label4, slider4])\n",
    "\n",
    "box5 = widgets.HBox([button])\n",
    "ui = widgets.VBox([box1,box2,box3,box4,box5]) \n",
    "display(ui)\n",
    "\n",
    "button.on_click(getValues)\n"
   ]
  }
 ],
 "metadata": {
  "kernelspec": {
   "display_name": "Python 3",
   "language": "python",
   "name": "python3"
  },
  "language_info": {
   "codemirror_mode": {
    "name": "ipython",
    "version": 3
   },
   "file_extension": ".py",
   "mimetype": "text/x-python",
   "name": "python",
   "nbconvert_exporter": "python",
   "pygments_lexer": "ipython3",
   "version": "3.7.3"
  }
 },
 "nbformat": 4,
 "nbformat_minor": 2
}
