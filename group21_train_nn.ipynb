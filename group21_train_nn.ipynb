{
 "cells": [
  {
   "cell_type": "markdown",
   "metadata": {},
   "source": [
    "# CSC311 Machine Learning Project 2019 - Group 21\n",
    "\n",
    "    Areeb Royeppen - 3750662\n",
    "\n",
    "### This notebook takes the split data, trains and optimizes a Neural Network Model:\n",
    "\n",
    "It reads from files ```group21_train.csv``` and ```group21_cv.csv```\n",
    "\n",
    "and then optimizes the Neural Network with respect to the number of nodes in the hidden layer.\n",
    "\n",
    "The data has already been scaled using ```StandardScaler()```\n",
    "\n",
    "### Some Initializing Code\n",
    "\n",
    "Run the code below to initialize the notebook."
   ]
  },
  {
   "cell_type": "code",
   "execution_count": 1,
   "metadata": {},
   "outputs": [],
   "source": [
    "from sklearn.neural_network import MLPClassifier\n",
    "from sklearn.metrics import classification_report,confusion_matrix, f1_score\n",
    "import numpy as np\n",
    "import pandas as pd\n",
    "import matplotlib.pyplot as plt"
   ]
  },
  {
   "cell_type": "markdown",
   "metadata": {},
   "source": [
    "## Reading data\n",
    "\n",
    "Code below reads in the ```group21_train.csv``` file and displays the first and last 10 rows.\n",
    "\n",
    "Notice the data has been randomized. This has been done by ```train_test_split()``` in ```group21_dividedata.ipynb```\n"
   ]
  },
  {
   "cell_type": "code",
   "execution_count": 2,
   "metadata": {},
   "outputs": [
    {
     "data": {
      "text/html": [
       "<div>\n",
       "<style scoped>\n",
       "    .dataframe tbody tr th:only-of-type {\n",
       "        vertical-align: middle;\n",
       "    }\n",
       "\n",
       "    .dataframe tbody tr th {\n",
       "        vertical-align: top;\n",
       "    }\n",
       "\n",
       "    .dataframe thead th {\n",
       "        text-align: right;\n",
       "    }\n",
       "</style>\n",
       "<table border=\"1\" class=\"dataframe\">\n",
       "  <thead>\n",
       "    <tr style=\"text-align: right;\">\n",
       "      <th></th>\n",
       "      <th>0</th>\n",
       "      <th>1</th>\n",
       "      <th>2</th>\n",
       "      <th>3</th>\n",
       "      <th>4</th>\n",
       "    </tr>\n",
       "  </thead>\n",
       "  <tbody>\n",
       "    <tr>\n",
       "      <th>0</th>\n",
       "      <td>0.360367</td>\n",
       "      <td>-0.342123</td>\n",
       "      <td>0.645445</td>\n",
       "      <td>0.848956</td>\n",
       "      <td>0.0</td>\n",
       "    </tr>\n",
       "    <tr>\n",
       "      <th>1</th>\n",
       "      <td>-0.464864</td>\n",
       "      <td>0.150956</td>\n",
       "      <td>-1.053933</td>\n",
       "      <td>-0.005639</td>\n",
       "      <td>1.0</td>\n",
       "    </tr>\n",
       "    <tr>\n",
       "      <th>2</th>\n",
       "      <td>1.225616</td>\n",
       "      <td>1.419274</td>\n",
       "      <td>-1.274290</td>\n",
       "      <td>-1.558980</td>\n",
       "      <td>0.0</td>\n",
       "    </tr>\n",
       "    <tr>\n",
       "      <th>3</th>\n",
       "      <td>-1.000707</td>\n",
       "      <td>0.310376</td>\n",
       "      <td>-0.417731</td>\n",
       "      <td>-0.049348</td>\n",
       "      <td>1.0</td>\n",
       "    </tr>\n",
       "    <tr>\n",
       "      <th>4</th>\n",
       "      <td>-0.903337</td>\n",
       "      <td>-0.060313</td>\n",
       "      <td>-0.343949</td>\n",
       "      <td>-0.263609</td>\n",
       "      <td>1.0</td>\n",
       "    </tr>\n",
       "    <tr>\n",
       "      <th>5</th>\n",
       "      <td>-0.641242</td>\n",
       "      <td>1.803377</td>\n",
       "      <td>-0.163967</td>\n",
       "      <td>-3.026807</td>\n",
       "      <td>0.0</td>\n",
       "    </tr>\n",
       "    <tr>\n",
       "      <th>6</th>\n",
       "      <td>0.974571</td>\n",
       "      <td>0.653913</td>\n",
       "      <td>-0.499268</td>\n",
       "      <td>0.275752</td>\n",
       "      <td>0.0</td>\n",
       "    </tr>\n",
       "    <tr>\n",
       "      <th>7</th>\n",
       "      <td>0.054412</td>\n",
       "      <td>1.508520</td>\n",
       "      <td>-0.646641</td>\n",
       "      <td>-1.493131</td>\n",
       "      <td>0.0</td>\n",
       "    </tr>\n",
       "    <tr>\n",
       "      <th>8</th>\n",
       "      <td>0.460553</td>\n",
       "      <td>0.300149</td>\n",
       "      <td>-1.255792</td>\n",
       "      <td>-0.251896</td>\n",
       "      <td>1.0</td>\n",
       "    </tr>\n",
       "    <tr>\n",
       "      <th>9</th>\n",
       "      <td>0.324755</td>\n",
       "      <td>0.394321</td>\n",
       "      <td>0.170936</td>\n",
       "      <td>0.720275</td>\n",
       "      <td>0.0</td>\n",
       "    </tr>\n",
       "  </tbody>\n",
       "</table>\n",
       "</div>"
      ],
      "text/plain": [
       "          0         1         2         3    4\n",
       "0  0.360367 -0.342123  0.645445  0.848956  0.0\n",
       "1 -0.464864  0.150956 -1.053933 -0.005639  1.0\n",
       "2  1.225616  1.419274 -1.274290 -1.558980  0.0\n",
       "3 -1.000707  0.310376 -0.417731 -0.049348  1.0\n",
       "4 -0.903337 -0.060313 -0.343949 -0.263609  1.0\n",
       "5 -0.641242  1.803377 -0.163967 -3.026807  0.0\n",
       "6  0.974571  0.653913 -0.499268  0.275752  0.0\n",
       "7  0.054412  1.508520 -0.646641 -1.493131  0.0\n",
       "8  0.460553  0.300149 -1.255792 -0.251896  1.0\n",
       "9  0.324755  0.394321  0.170936  0.720275  0.0"
      ]
     },
     "metadata": {},
     "output_type": "display_data"
    },
    {
     "data": {
      "text/html": [
       "<div>\n",
       "<style scoped>\n",
       "    .dataframe tbody tr th:only-of-type {\n",
       "        vertical-align: middle;\n",
       "    }\n",
       "\n",
       "    .dataframe tbody tr th {\n",
       "        vertical-align: top;\n",
       "    }\n",
       "\n",
       "    .dataframe thead th {\n",
       "        text-align: right;\n",
       "    }\n",
       "</style>\n",
       "<table border=\"1\" class=\"dataframe\">\n",
       "  <thead>\n",
       "    <tr style=\"text-align: right;\">\n",
       "      <th></th>\n",
       "      <th>0</th>\n",
       "      <th>1</th>\n",
       "      <th>2</th>\n",
       "      <th>3</th>\n",
       "      <th>4</th>\n",
       "    </tr>\n",
       "  </thead>\n",
       "  <tbody>\n",
       "    <tr>\n",
       "      <th>909</th>\n",
       "      <td>-2.318075</td>\n",
       "      <td>1.023903</td>\n",
       "      <td>-0.181271</td>\n",
       "      <td>-0.987000</td>\n",
       "      <td>1.0</td>\n",
       "    </tr>\n",
       "    <tr>\n",
       "      <th>910</th>\n",
       "      <td>0.014057</td>\n",
       "      <td>0.245129</td>\n",
       "      <td>-1.370334</td>\n",
       "      <td>-1.357670</td>\n",
       "      <td>1.0</td>\n",
       "    </tr>\n",
       "    <tr>\n",
       "      <th>911</th>\n",
       "      <td>-1.022701</td>\n",
       "      <td>-0.396087</td>\n",
       "      <td>0.020395</td>\n",
       "      <td>1.100135</td>\n",
       "      <td>1.0</td>\n",
       "    </tr>\n",
       "    <tr>\n",
       "      <th>912</th>\n",
       "      <td>-2.067453</td>\n",
       "      <td>0.905749</td>\n",
       "      <td>-0.299004</td>\n",
       "      <td>-3.034187</td>\n",
       "      <td>1.0</td>\n",
       "    </tr>\n",
       "    <tr>\n",
       "      <th>913</th>\n",
       "      <td>1.316793</td>\n",
       "      <td>1.421387</td>\n",
       "      <td>-1.219189</td>\n",
       "      <td>-1.482656</td>\n",
       "      <td>0.0</td>\n",
       "    </tr>\n",
       "    <tr>\n",
       "      <th>914</th>\n",
       "      <td>0.491836</td>\n",
       "      <td>0.757613</td>\n",
       "      <td>-0.332812</td>\n",
       "      <td>0.590983</td>\n",
       "      <td>0.0</td>\n",
       "    </tr>\n",
       "    <tr>\n",
       "      <th>915</th>\n",
       "      <td>0.108855</td>\n",
       "      <td>1.576239</td>\n",
       "      <td>-0.645249</td>\n",
       "      <td>-1.371812</td>\n",
       "      <td>0.0</td>\n",
       "    </tr>\n",
       "    <tr>\n",
       "      <th>916</th>\n",
       "      <td>0.519672</td>\n",
       "      <td>1.184380</td>\n",
       "      <td>-0.867184</td>\n",
       "      <td>0.207412</td>\n",
       "      <td>0.0</td>\n",
       "    </tr>\n",
       "    <tr>\n",
       "      <th>917</th>\n",
       "      <td>-0.890281</td>\n",
       "      <td>-1.538844</td>\n",
       "      <td>1.211842</td>\n",
       "      <td>0.406893</td>\n",
       "      <td>1.0</td>\n",
       "    </tr>\n",
       "    <tr>\n",
       "      <th>918</th>\n",
       "      <td>-0.691810</td>\n",
       "      <td>-1.196363</td>\n",
       "      <td>1.225559</td>\n",
       "      <td>0.650703</td>\n",
       "      <td>1.0</td>\n",
       "    </tr>\n",
       "  </tbody>\n",
       "</table>\n",
       "</div>"
      ],
      "text/plain": [
       "            0         1         2         3    4\n",
       "909 -2.318075  1.023903 -0.181271 -0.987000  1.0\n",
       "910  0.014057  0.245129 -1.370334 -1.357670  1.0\n",
       "911 -1.022701 -0.396087  0.020395  1.100135  1.0\n",
       "912 -2.067453  0.905749 -0.299004 -3.034187  1.0\n",
       "913  1.316793  1.421387 -1.219189 -1.482656  0.0\n",
       "914  0.491836  0.757613 -0.332812  0.590983  0.0\n",
       "915  0.108855  1.576239 -0.645249 -1.371812  0.0\n",
       "916  0.519672  1.184380 -0.867184  0.207412  0.0\n",
       "917 -0.890281 -1.538844  1.211842  0.406893  1.0\n",
       "918 -0.691810 -1.196363  1.225559  0.650703  1.0"
      ]
     },
     "metadata": {},
     "output_type": "display_data"
    }
   ],
   "source": [
    "data = np.genfromtxt('group21_train.csv')\n",
    "\n",
    "#Converting the numpy array to a pandas DataFrame and display the first 10 and last 10 rows as html\n",
    "display(pd.DataFrame(data).head(10))\n",
    "display(pd.DataFrame(data).tail(10))"
   ]
  },
  {
   "cell_type": "markdown",
   "metadata": {},
   "source": [
    "## Splitting into xTrain and yTrain \n"
   ]
  },
  {
   "cell_type": "code",
   "execution_count": 3,
   "metadata": {},
   "outputs": [],
   "source": [
    "\n",
    "m = data.shape[0]\n",
    "n = data.shape[1]-1 #The final column is not a feature; it's the target variable\n",
    "\n",
    "xTrain = data[:,0:n]\n",
    "yTrain = data[:,n].reshape(m,1)\n"
   ]
  },
  {
   "cell_type": "markdown",
   "metadata": {},
   "source": [
    "## Reading data\n",
    "\n",
    "Code below reads in the ```group21_cv.csv``` file and splits this into Xcv and ycv.\n"
   ]
  },
  {
   "cell_type": "code",
   "execution_count": 4,
   "metadata": {},
   "outputs": [],
   "source": [
    "cvData = np.genfromtxt('group21_cv.csv')\n",
    "\n",
    "m = cvData.shape[0]\n",
    "n = cvData.shape[1]-1\n",
    "\n",
    "Xcv = cvData[:,0:n]\n",
    "ycv = cvData[:,n].reshape(m,1)\n"
   ]
  },
  {
   "cell_type": "markdown",
   "metadata": {},
   "source": [
    "## Optimizing Number of Nodes\n",
    "\n",
    "The function below attempts to optimize the number of nodes within the hidden layer of the neural network\n",
    "It does so by creating multiple objects of the ```MLPClassifier()``` class with different ```hidden_layer_sizes``` and tracks their ```f1 score```.\n",
    "\n",
    "The scores and number of nodes are then plot on a graph "
   ]
  },
  {
   "cell_type": "code",
   "execution_count": 5,
   "metadata": {},
   "outputs": [
    {
     "data": {
      "image/png": "[encoded data removed]",
      "text/plain": [
       "<Figure size 864x720 with 1 Axes>"
      ]
     },
     "metadata": {
      "needs_background": "light"
     },
     "output_type": "display_data"
    }
   ],
   "source": [
    "def nodesVSf1(X, y, Xcv,ycv):    \n",
    "    \n",
    "    nodes = []\n",
    "    for i in range(1,100, 5): # 20 values in multiples of 5 from 1 to 100\n",
    "        nodes.append(i)\n",
    "    \n",
    "    f1 = []\n",
    "    for n in nodes:  # looping through node array \n",
    "        \n",
    "        clf = MLPClassifier(solver='lbfgs', hidden_layer_sizes=(n), random_state=1) # creating nn with n nodes\n",
    "        clf.fit(X, y.squeeze())\n",
    "        yPred = clf.predict(Xcv)        \n",
    "        f1.append(f1_score(ycv, yPred, average='macro'))\n",
    "        \n",
    "    plt.figure(figsize=(12,10))\n",
    "    plt.plot(nodes, f1) # plotting the f1 score of each nn created to see when the f1 score maximizes\n",
    "\n",
    "    plt.xlabel('No. Nodes')\n",
    "    plt.ylabel('Score $ F1$')\n",
    "    \n",
    "nodesVSf1(xTrain, yTrain, Xcv, ycv)"
   ]
  },
  {
   "cell_type": "markdown",
   "metadata": {},
   "source": [
    "## Final optimized model is then created and the train and cv data is fit."
   ]
  },
  {
   "cell_type": "code",
   "execution_count": 11,
   "metadata": {},
   "outputs": [
    {
     "data": {
      "text/plain": [
       "MLPClassifier(activation='relu', alpha=1e-05, batch_size='auto', beta_1=0.9,\n",
       "       beta_2=0.999, early_stopping=False, epsilon=1e-08,\n",
       "       hidden_layer_sizes=15, learning_rate='constant',\n",
       "       learning_rate_init=0.001, max_iter=200, momentum=0.9,\n",
       "       n_iter_no_change=10, nesterovs_momentum=True, power_t=0.5,\n",
       "       random_state=1, shuffle=True, solver='lbfgs', tol=0.0001,\n",
       "       validation_fraction=0.1, verbose=False, warm_start=False)"
      ]
     },
     "execution_count": 11,
     "metadata": {},
     "output_type": "execute_result"
    }
   ],
   "source": [
    "clfNN = MLPClassifier(solver='lbfgs', alpha=1e-5, hidden_layer_sizes=(15), random_state=1)\n",
    "\n",
    "#concatinating train and cv sets to train final model on\n",
    "X = np.vstack([xTrain, Xcv])\n",
    "y = np.vstack([yTrain,ycv])\n",
    "\n",
    "clfNN.fit(X, y.squeeze())"
   ]
  },
  {
   "cell_type": "markdown",
   "metadata": {},
   "source": [
    "## Final model is then used to predict on the cv set of data one last time\n",
    "\n",
    "A classification report is also printed"
   ]
  },
  {
   "cell_type": "code",
   "execution_count": 12,
   "metadata": {},
   "outputs": [
    {
     "name": "stdout",
     "output_type": "stream",
     "text": [
      "              precision    recall  f1-score   support\n",
      "\n",
      "         0.0       1.00      1.00      1.00       126\n",
      "         1.0       1.00      1.00      1.00       100\n",
      "\n",
      "   micro avg       1.00      1.00      1.00       226\n",
      "   macro avg       1.00      1.00      1.00       226\n",
      "weighted avg       1.00      1.00      1.00       226\n",
      "\n"
     ]
    }
   ],
   "source": [
    "cvData = np.genfromtxt('group21_cv.csv')\n",
    "\n",
    "m = cvData.shape[0]\n",
    "n = cvData.shape[1]-1 \n",
    "\n",
    "xcv = cvData[:,0:n]\n",
    "ycv = cvData[:,n].reshape(m,1)\n",
    "\n",
    "yPred = clfNN.predict(xcv)\n",
    "\n",
    "print(classification_report(ycv,yPred))\n"
   ]
  },
  {
   "cell_type": "code",
   "execution_count": 13,
   "metadata": {},
   "outputs": [
    {
     "name": "stdout",
     "output_type": "stream",
     "text": [
      "Stored 'clfNN' (MLPClassifier)\n"
     ]
    }
   ],
   "source": [
    "%store clfNN"
   ]
  },
  {
   "cell_type": "code",
   "execution_count": null,
   "metadata": {},
   "outputs": [],
   "source": []
  }
 ],
 "metadata": {
  "kernelspec": {
   "display_name": "Python 3",
   "language": "python",
   "name": "python3"
  },
  "language_info": {
   "codemirror_mode": {
    "name": "ipython",
    "version": 3
   },
   "file_extension": ".py",
   "mimetype": "text/x-python",
   "name": "python",
   "nbconvert_exporter": "python",
   "pygments_lexer": "ipython3",
   "version": "3.7.3"
  }
 },
 "nbformat": 4,
 "nbformat_minor": 2
}
