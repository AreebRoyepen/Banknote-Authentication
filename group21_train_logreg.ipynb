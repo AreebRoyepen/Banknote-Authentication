{
 "cells": [
  {
   "cell_type": "markdown",
   "metadata": {},
   "source": [
    "# CSC311 Machine Learning Project 2019 - Group 21 \n",
    "\n",
    "## LOGISTIC REGRESSION"
   ]
  },
  {
   "cell_type": "markdown",
   "metadata": {},
   "source": [
    "\n",
    "\n",
    "# Importing train and cv data"
   ]
  },
  {
   "cell_type": "markdown",
   "metadata": {},
   "source": [
    "```Python modules``` are also imported"
   ]
  },
  {
   "cell_type": "code",
   "execution_count": 1,
   "metadata": {},
   "outputs": [],
   "source": [
    "import numpy as np\n",
    "from sklearn.metrics import classification_report,confusion_matrix, f1_score\n",
    "import pandas as pd\n",
    "import warnings\n",
    "import matplotlib.pyplot as plt\n",
    "warnings.simplefilter(\"ignore\")\n",
    "\n",
    "\n",
    "data = np.genfromtxt('group21_train.csv')\n",
    "data2= np.genfromtxt('group21_cv.csv')"
   ]
  },
  {
   "cell_type": "markdown",
   "metadata": {},
   "source": [
    "# Setting m,n,x,y values "
   ]
  },
  {
   "cell_type": "code",
   "execution_count": 2,
   "metadata": {},
   "outputs": [],
   "source": [
    "#Set m and n for train data \n",
    "m = data.shape[0]\n",
    "n = data.shape[1]-1 \n",
    "\n",
    "#set m and n for cv_data\n",
    "m_cv =data2.shape[0]\n",
    "n_cv =data2.shape[1]-1\n",
    "\n",
    "#Set X and y for train data\n",
    "\n",
    "X = data[:,0:n]\n",
    "y = data[:,n].reshape(m,1)\n",
    "\n",
    "#Set X and y for cv data\n",
    "X_cv =data2[:,0:n_cv]\n",
    "y_cv =data2[:,n].reshape(m_cv,1)\n",
    "\n",
    "\n"
   ]
  },
  {
   "cell_type": "markdown",
   "metadata": {},
   "source": [
    "# Creating Higher-Order Features\n",
    "\n",
    "a ```degree``` of 7 will be used"
   ]
  },
  {
   "cell_type": "code",
   "execution_count": 3,
   "metadata": {},
   "outputs": [],
   "source": [
    "from sklearn.preprocessing import PolynomialFeatures\n",
    "\n",
    "degree = 7    \n",
    "polytransform = PolynomialFeatures(degree, include_bias=False).fit(X)\n",
    "X_train_poly = polytransform.transform(X)\n",
    "X_cv_poly = polytransform.transform(X_cv)\n"
   ]
  },
  {
   "cell_type": "markdown",
   "metadata": {},
   "source": [
    "# Regularizing the value of C \n",
    "\n",
    "\n",
    " The ```graph``` for all the C values along with the f1 score will be plotted\n",
    "\n"
   ]
  },
  {
   "cell_type": "code",
   "execution_count": 4,
   "metadata": {},
   "outputs": [
    {
     "data": {
      "text/plain": [
       "Text(0, 0.5, 'F1 score')"
      ]
     },
     "execution_count": 4,
     "metadata": {},
     "output_type": "execute_result"
    },
    {
     "data": {
      "image/png": "[encoded data removed]",
      "text/plain": [
       "<Figure size 864x720 with 1 Axes>"
      ]
     },
     "metadata": {
      "needs_background": "light"
     },
     "output_type": "display_data"
    }
   ],
   "source": [
    "from sklearn.linear_model import LogisticRegression\n",
    "best_score=0\n",
    "best_C=0      #this will be the final value of C\n",
    "\n",
    "#C_array and Score_array will be used for plotting the graph\n",
    "C_array=[]\n",
    "Score_array=[]\n",
    "\n",
    "#Trying out regularization value from 20 to 50\n",
    "\n",
    "for i in range(20,50):\n",
    "    \n",
    "\n",
    "    model= LogisticRegression(random_state=0, solver='lbfgs',C=i)                          \n",
    "    model.fit(X_train_poly, y.ravel())\n",
    "    ypred=model.predict(X_cv_poly)  # testing the model using X_cv data\n",
    "    score=f1_score(y_cv, ypred, average='macro')\n",
    "    \n",
    "    C_array.append(i)\n",
    "    Score_array.append(score)\n",
    "    \n",
    "    if score > best_score:\n",
    "        best_score=score\n",
    "        best_C=i\n",
    "\n",
    "#the last four lines of code plots the graph\n",
    "\n",
    "plt.figure(figsize=(12,10))\n",
    "plt.plot(C_array ,Score_array) \n",
    "plt.xlabel(' Values of C')\n",
    "plt.ylabel('F1 score')\n",
    "    "
   ]
  },
  {
   "cell_type": "markdown",
   "metadata": {},
   "source": [
    "# The final Model\n",
    "\n",
    "we will use this model to predict on the Cv data"
   ]
  },
  {
   "cell_type": "code",
   "execution_count": 5,
   "metadata": {},
   "outputs": [],
   "source": [
    "logReg=LogisticRegression(random_state=0, solver='lbfgs',C=best_C)\n",
    "logReg.fit(X_train_poly, y.ravel())\n",
    "ypred=logReg.predict(X_cv_poly)  # testing the model using X_cv data"
   ]
  },
  {
   "cell_type": "markdown",
   "metadata": {},
   "source": [
    "# Model EVALUATION"
   ]
  },
  {
   "cell_type": "code",
   "execution_count": 6,
   "metadata": {},
   "outputs": [
    {
     "name": "stdout",
     "output_type": "stream",
     "text": [
      "              precision    recall  f1-score   support\n",
      "\n",
      "         0.0       1.00      1.00      1.00       126\n",
      "         1.0       1.00      1.00      1.00       100\n",
      "\n",
      "   micro avg       1.00      1.00      1.00       226\n",
      "   macro avg       1.00      1.00      1.00       226\n",
      "weighted avg       1.00      1.00      1.00       226\n",
      "\n"
     ]
    }
   ],
   "source": [
    "print(classification_report(y_cv,ypred))"
   ]
  },
  {
   "cell_type": "code",
   "execution_count": 7,
   "metadata": {},
   "outputs": [
    {
     "name": "stdout",
     "output_type": "stream",
     "text": [
      "Stored 'logReg' (LogisticRegression)\n",
      "Stored 'polytransform' (PolynomialFeatures)\n"
     ]
    }
   ],
   "source": [
    "%store logReg\n",
    "%store polytransform"
   ]
  },
  {
   "cell_type": "code",
   "execution_count": null,
   "metadata": {},
   "outputs": [],
   "source": []
  }
 ],
 "metadata": {
  "kernelspec": {
   "display_name": "Python 3",
   "language": "python",
   "name": "python3"
  },
  "language_info": {
   "codemirror_mode": {
    "name": "ipython",
    "version": 3
   },
   "file_extension": ".py",
   "mimetype": "text/x-python",
   "name": "python",
   "nbconvert_exporter": "python",
   "pygments_lexer": "ipython3",
   "version": "3.7.3"
  }
 },
 "nbformat": 4,
 "nbformat_minor": 2
}
